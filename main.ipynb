{
 "cells": [
  {
   "cell_type": "markdown",
   "id": "a84876a6",
   "metadata": {},
   "source": [
    "## Start"
   ]
  },
  {
   "cell_type": "code",
   "execution_count": 1,
   "id": "da7e0903",
   "metadata": {},
   "outputs": [],
   "source": [
    "from internal.initialize_data import *\n",
    "from client.client import *\n",
    "from server.server import *\n",
    "\n",
    "EPSILON = 1\n",
    "RADNOM_SEED = 10\n",
    "DATASET_NUMBER = 2\n",
    "B = 0.005\n",
    "DELTA = 0.001\n",
    "GET_EVOLUTION = True"
   ]
  },
  {
   "cell_type": "markdown",
   "id": "a553daf2",
   "metadata": {},
   "source": [
    "## Initialize dataset"
   ]
  },
  {
   "cell_type": "code",
   "execution_count": 2,
   "id": "614910e5",
   "metadata": {},
   "outputs": [
    {
     "name": "stdout",
     "output_type": "stream",
     "text": [
      "Reading dataset ...\n",
      "Append evolution data ...\n",
      "Reading domains ...\n"
     ]
    }
   ],
   "source": [
    "dataset = read_dataset(f'dataset/Data{DATASET_NUMBER}-coarse.dat', True)\n",
    "domains = attributes_domain(f'dataset/Data{DATASET_NUMBER}-coarse.domain')"
   ]
  },
  {
   "cell_type": "code",
   "execution_count": 3,
   "id": "2770c0d3",
   "metadata": {},
   "outputs": [
    {
     "data": {
      "text/plain": [
       "[4,\n",
       " 0,\n",
       " 0,\n",
       " 0,\n",
       " 12,\n",
       " 0,\n",
       " 0,\n",
       " 0,\n",
       " 0,\n",
       " 0,\n",
       " 0,\n",
       " 0,\n",
       " 6,\n",
       " 0,\n",
       " 0,\n",
       " [102,\n",
       "  56,\n",
       "  56,\n",
       "  56,\n",
       "  56,\n",
       "  145,\n",
       "  145,\n",
       "  145,\n",
       "  145,\n",
       "  145,\n",
       "  145,\n",
       "  143,\n",
       "  37,\n",
       "  37,\n",
       "  37,\n",
       "  351,\n",
       "  62,\n",
       "  62,\n",
       "  62,\n",
       "  62,\n",
       "  30,\n",
       "  30,\n",
       "  30,\n",
       "  19,\n",
       "  19,\n",
       "  19,\n",
       "  19,\n",
       "  216,\n",
       "  216,\n",
       "  82,\n",
       "  246,\n",
       "  246,\n",
       "  246,\n",
       "  246,\n",
       "  44,\n",
       "  44,\n",
       "  44,\n",
       "  44,\n",
       "  114,\n",
       "  114,\n",
       "  114,\n",
       "  118,\n",
       "  78,\n",
       "  213,\n",
       "  213,\n",
       "  213,\n",
       "  323,\n",
       "  323,\n",
       "  323,\n",
       "  323,\n",
       "  323,\n",
       "  323,\n",
       "  323,\n",
       "  13,\n",
       "  13,\n",
       "  13,\n",
       "  13,\n",
       "  262,\n",
       "  262,\n",
       "  262,\n",
       "  262,\n",
       "  262,\n",
       "  150,\n",
       "  150,\n",
       "  150,\n",
       "  183,\n",
       "  183,\n",
       "  339,\n",
       "  118,\n",
       "  118,\n",
       "  312,\n",
       "  312,\n",
       "  312,\n",
       "  354,\n",
       "  354,\n",
       "  354,\n",
       "  354,\n",
       "  313,\n",
       "  280,\n",
       "  311,\n",
       "  311,\n",
       "  77,\n",
       "  77,\n",
       "  77,\n",
       "  77,\n",
       "  248,\n",
       "  248,\n",
       "  248,\n",
       "  248,\n",
       "  248,\n",
       "  327,\n",
       "  76,\n",
       "  67,\n",
       "  67,\n",
       "  67,\n",
       "  67,\n",
       "  67,\n",
       "  102,\n",
       "  337,\n",
       "  337,\n",
       "  34,\n",
       "  284,\n",
       "  284,\n",
       "  284,\n",
       "  284,\n",
       "  284,\n",
       "  284,\n",
       "  284,\n",
       "  284,\n",
       "  284,\n",
       "  284,\n",
       "  284,\n",
       "  260,\n",
       "  260,\n",
       "  352,\n",
       "  352,\n",
       "  352,\n",
       "  217,\n",
       "  120,\n",
       "  120]]"
      ]
     },
     "execution_count": 3,
     "metadata": {},
     "output_type": "execute_result"
    }
   ],
   "source": [
    "dataset[0]"
   ]
  },
  {
   "cell_type": "code",
   "execution_count": null,
   "id": "f437f079",
   "metadata": {},
   "outputs": [],
   "source": []
  }
 ],
 "metadata": {
  "kernelspec": {
   "display_name": "Python 3",
   "language": "python",
   "name": "python3"
  },
  "language_info": {
   "codemirror_mode": {
    "name": "ipython",
    "version": 3
   },
   "file_extension": ".py",
   "mimetype": "text/x-python",
   "name": "python",
   "nbconvert_exporter": "python",
   "pygments_lexer": "ipython3",
   "version": "3.6.9"
  }
 },
 "nbformat": 4,
 "nbformat_minor": 5
}
